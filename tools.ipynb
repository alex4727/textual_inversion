{
 "cells": [
  {
   "cell_type": "code",
   "execution_count": 2,
   "metadata": {},
   "outputs": [],
   "source": [
    "from torchvision.models import resnet50\n",
    "import torch\n",
    "from PIL import Image\n",
    "\n",
    "image = Image.open(\"/root/data/data/Synthetic_ImageNet_Text_only/train/n01807496/fake_86_0646.JPEG\")\n",
    "resnet50 = resnet50(pretrained=True)\n"
   ]
  },
  {
   "cell_type": "code",
   "execution_count": 6,
   "metadata": {},
   "outputs": [
    {
     "name": "stdout",
     "output_type": "stream",
     "text": [
      "partridge\n"
     ]
    }
   ],
   "source": [
    "from transformers import AutoFeatureExtractor, ResNetForImageClassification\n",
    "import torch\n",
    "from PIL import Image\n",
    "\n",
    "image = Image.open(\"/root/data/data/Synthetic_ImageNet_Text_only/train/n01807496/fake_86_0646.JPEG\")\n",
    "feature_extractor = AutoFeatureExtractor.from_pretrained(\"microsoft/resnet-50\")\n",
    "model = ResNetForImageClassification.from_pretrained(\"microsoft/resnet-50\")\n",
    "\n",
    "inputs = feature_extractor(image, return_tensors=\"pt\")\n",
    "\n",
    "with torch.no_grad():\n",
    "    logits = model(**inputs).logits\n",
    "\n",
    "# model predicts one of the 1000 ImageNet classes\n",
    "predicted_label = logits.argmax(-1).item()\n",
    "print(model.config.id2label[predicted_label])"
   ]
  }
 ],
 "metadata": {
  "kernelspec": {
   "display_name": "Python 3.8.10 ('textual_inversion')",
   "language": "python",
   "name": "python3"
  },
  "language_info": {
   "codemirror_mode": {
    "name": "ipython",
    "version": 3
   },
   "file_extension": ".py",
   "mimetype": "text/x-python",
   "name": "python",
   "nbconvert_exporter": "python",
   "pygments_lexer": "ipython3",
   "version": "3.8.10"
  },
  "orig_nbformat": 4,
  "vscode": {
   "interpreter": {
    "hash": "44f72ec9a0b1b4ba2b0abf445776c6ae498cfcddc428f527379f4fc644f34544"
   }
  }
 },
 "nbformat": 4,
 "nbformat_minor": 2
}
