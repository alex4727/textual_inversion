{
 "cells": [
  {
   "cell_type": "code",
   "execution_count": 5,
   "metadata": {},
   "outputs": [],
   "source": [
    "from PIL import Image\n",
    "import os\n",
    "\n",
    "def center_crop(img):\n",
    "    width, height = img.size\n",
    "    if width > height:\n",
    "        left = (width - height) / 2\n",
    "        top = 0\n",
    "        right = (width + height) / 2\n",
    "        bottom = height\n",
    "    else:\n",
    "        left = 0\n",
    "        top = (height - width) / 2\n",
    "        right = width\n",
    "        bottom = (height + width) / 2\n",
    "    return img.crop((left, top, right, bottom))\n",
    "\n",
    "def load_center_crop_resize_save(input_path, size, output_path):\n",
    "    for img in os.listdir(input_path):\n",
    "        img_name = img\n",
    "        img = Image.open(os.path.join(input_path, img)).convert('RGB')\n",
    "        img = center_crop(img)\n",
    "        img = img.resize((size, size), Image.LANCZOS)\n",
    "        img.save(os.path.join(output_path, img_name))\n",
    "\n",
    "input_path = \"/root/data/dataset/ImageNet/train/n13133613\"\n",
    "output_path = \"/root/code/sample_data/custom_diffusion_data/corncob\"\n",
    "load_center_crop_resize_save(input_path, 512, output_path)"
   ]
  },
  {
   "cell_type": "code",
   "execution_count": 2,
   "metadata": {},
   "outputs": [],
   "source": [
    "from torchvision.models import resnet50\n",
    "import torch\n",
    "from PIL import Image\n",
    "\n",
    "image = Image.open(\"/root/data/data/Synthetic_ImageNet_Text_only/train/n01807496/fake_86_0646.JPEG\")\n",
    "resnet50 = resnet50(pretrained=True)\n"
   ]
  },
  {
   "cell_type": "code",
   "execution_count": 6,
   "metadata": {},
   "outputs": [
    {
     "name": "stdout",
     "output_type": "stream",
     "text": [
      "partridge\n"
     ]
    }
   ],
   "source": [
    "from transformers import AutoFeatureExtractor, ResNetForImageClassification\n",
    "import torch\n",
    "from PIL import Image\n",
    "\n",
    "image = Image.open(\"/root/data/data/Synthetic_ImageNet_Text_only/train/n01807496/fake_86_0646.JPEG\")\n",
    "feature_extractor = AutoFeatureExtractor.from_pretrained(\"microsoft/resnet-50\")\n",
    "model = ResNetForImageClassification.from_pretrained(\"microsoft/resnet-50\")\n",
    "\n",
    "inputs = feature_extractor(image, return_tensors=\"pt\")\n",
    "\n",
    "with torch.no_grad():\n",
    "    logits = model(**inputs).logits\n",
    "\n",
    "# model predicts one of the 1000 ImageNet classes\n",
    "predicted_label = logits.argmax(-1).item()\n",
    "print(model.config.id2label[predicted_label])"
   ]
  }
 ],
 "metadata": {
  "kernelspec": {
   "display_name": "Python 3.8.10 ('textual_inversion')",
   "language": "python",
   "name": "python3"
  },
  "language_info": {
   "codemirror_mode": {
    "name": "ipython",
    "version": 3
   },
   "file_extension": ".py",
   "mimetype": "text/x-python",
   "name": "python",
   "nbconvert_exporter": "python",
   "pygments_lexer": "ipython3",
   "version": "3.8.10"
  },
  "orig_nbformat": 4,
  "vscode": {
   "interpreter": {
    "hash": "44f72ec9a0b1b4ba2b0abf445776c6ae498cfcddc428f527379f4fc644f34544"
   }
  }
 },
 "nbformat": 4,
 "nbformat_minor": 2
}
