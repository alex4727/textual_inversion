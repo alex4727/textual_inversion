{
 "cells": [],
 "metadata": {
  "kernelspec": {
   "display_name": "Python 3.8.5 ('ldm')",
   "language": "python",
   "name": "python3"
  },
  "language_info": {
   "codemirror_mode": {
    "name": "ipython",
    "version": 3
   },
   "file_extension": ".py",
   "mimetype": "text/x-python",
   "name": "python",
   "nbconvert_exporter": "python",
   "pygments_lexer": "ipython3",
   "version": "3.8.5"
  },
  "orig_nbformat": 4,
  "vscode": {
   "interpreter": {
    "hash": "afaf7b9974a9993a24921efe4bafd795ec4a11fdf3793e227c3c50c68c1d8d32"
   }
  }
 },
 "nbformat": 4,
 "nbformat_minor": 2
}
